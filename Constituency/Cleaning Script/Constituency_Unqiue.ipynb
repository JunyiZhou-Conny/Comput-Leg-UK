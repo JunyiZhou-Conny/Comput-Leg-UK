{
 "cells": [
  {
   "cell_type": "code",
   "execution_count": null,
   "metadata": {},
   "outputs": [],
   "source": [
    "import requests\n",
    "import time\n",
    "import json\n",
    "\n",
    "# Base URL for the \"History\" endpoint\n",
    "BASE_URL = \"https://members-api.parliament.uk/api/Location/Constituency/\"\n",
    "\n",
    "# Starting and ending member IDs\n",
    "start_id = 1\n",
    "end_id = 3877\n",
    "\n",
    "# Store the results in a list\n",
    "results = []\n",
    "\n",
    "def save_data(data, filename=\"data.json\"):\n",
    "    \"\"\"Save the data to a JSON file.\"\"\"\n",
    "    with open(filename, \"w\") as f:\n",
    "        json.dump(data, f)\n",
    "\n",
    "for constituency_id in range(start_id, end_id + 1):\n",
    "    url = f\"{BASE_URL}{member_id}\"\n",
    "    \n",
    "    try:\n",
    "        response = requests.get(url)\n",
    "        response.raise_for_status()  # This will throw an exception if the HTTP code is 4xx or 5xx\n",
    "\n",
    "        data = response.json()\n",
    "        results.append(data)\n",
    "\n",
    "        # Save the data every 100 requests\n",
    "        if constituency_id % 100 == 0:\n",
    "            save_data(results, filename=f\"data_up_to_{constituency_id}.json\")\n",
    "\n",
    "        # Sleep for 5 seconds between requests to avoid rate limits\n",
    "        time.sleep(0.5)\n",
    "\n",
    "    except requests.RequestException as e:\n",
    "        print(f\"Error fetching data for ID {constituency_id}: {e}\")\n",
    "        # Optionally, sleep for longer if an error occurs to give the server a break\n",
    "        time.sleep(60)\n",
    "\n",
    "# Save the final batch of data\n",
    "save_data(results, filename=f\"Constituency_1_3877.json\")\n"
   ]
  },
  {
   "attachments": {},
   "cell_type": "markdown",
   "metadata": {},
   "source": [
    "> Transform into CSV file"
   ]
  },
  {
   "cell_type": "code",
   "execution_count": 3,
   "metadata": {},
   "outputs": [],
   "source": [
    "import json\n",
    "import pandas as pd\n",
    "\n",
    "# Open the file for reading\n",
    "with open('Constituency_1_3877.json', 'r') as file:\n",
    "    data = json.load(file)\n",
    "\n",
    "flattened_data = []\n",
    "\n",
    "# Iterate through each inner list in data\n",
    "for item in data:\n",
    "    value = item[\"value\"]\n",
    "\n",
    "    base_data = {\n",
    "        \"id\": value[\"id\"]\n",
    "    }\n",
    "        \n",
    "    row_data = base_data.copy()\n",
    "    row_data.update({\n",
    "        \"name\": value[\"name\"],\n",
    "        \"startDate\": value[\"startDate\"],\n",
    "        \"endDate\": value[\"endDate\"]})\n",
    "    flattened_data.append(row_data)\n",
    "\n",
    "df = pd.DataFrame(flattened_data)\n",
    "df.to_csv('Constituency_Unique.csv', index=False)\n"
   ]
  }
 ],
 "metadata": {
  "kernelspec": {
   "display_name": "Python 3",
   "language": "python",
   "name": "python3"
  },
  "language_info": {
   "codemirror_mode": {
    "name": "ipython",
    "version": 3
   },
   "file_extension": ".py",
   "mimetype": "text/x-python",
   "name": "python",
   "nbconvert_exporter": "python",
   "pygments_lexer": "ipython3",
   "version": "3.11.1 (v3.11.1:a7a450f84a, Dec  6 2022, 15:24:06) [Clang 13.0.0 (clang-1300.0.29.30)]"
  },
  "orig_nbformat": 4,
  "vscode": {
   "interpreter": {
    "hash": "aee8b7b246df8f9039afb4144a1f6fd8d2ca17a180786b69acc140d282b71a49"
   }
  }
 },
 "nbformat": 4,
 "nbformat_minor": 2
}
