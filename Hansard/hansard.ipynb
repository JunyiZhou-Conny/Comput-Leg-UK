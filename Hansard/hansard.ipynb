{
 "cells": [
  {
   "cell_type": "code",
   "execution_count": 7,
   "metadata": {},
   "outputs": [
    {
     "name": "stdout",
     "output_type": "stream",
     "text": [
      "https://hansard.parliament.uk/pdf/commons/2024-01-11\n"
     ]
    }
   ],
   "source": [
    "from curl_cffi import requests\n",
    "from bs4 import BeautifulSoup\n",
    "import pandas as pd\n",
    "from botocore.exceptions import ClientError\n",
    "import PyPDF2\n",
    "\n",
    "session = requests.Session()\n",
    "# Base URL for the Hansard site\n",
    "base_url = 'https://hansard.parliament.uk/pdf/commons/'\n",
    "\n",
    "# Function to build the full URL for a given date\n",
    "def build_url_for_date(date):\n",
    "    return f\"{base_url}{date}\"\n",
    "\n",
    "url  = build_url_for_date('2024-01-11')\n",
    "print(url)"
   ]
  },
  {
   "cell_type": "code",
   "execution_count": 8,
   "metadata": {},
   "outputs": [],
   "source": [
    "import boto3\n",
    "import io\n",
    "\n",
    "def upload_df_to_s3(df, bucket, object_name):\n",
    "    \"\"\"\n",
    "    Upload a DataFrame to an S3 bucket as CSV.\n",
    "\n",
    "    :param df: DataFrame to upload\n",
    "    :param bucket: Bucket to upload to\n",
    "    :param object_name: S3 object name\n",
    "    :return: True if the DataFrame was uploaded, else False\n",
    "    \"\"\"\n",
    "    # Create a buffer\n",
    "    csv_buffer = io.StringIO()\n",
    "    df.to_csv(csv_buffer, index=False)\n",
    "\n",
    "    # Move to the start of the buffer\n",
    "    csv_buffer.seek(0)\n",
    "\n",
    "    #When setting up credentials locally, use the following code\n",
    "    session = boto3.Session()\n",
    "    s3_client = session.client('s3')\n",
    "    # # # When using IAM roles, boto3 retrieves credentials from the instance metadata\n",
    "    # s3_client = boto3.client('s3')\n",
    "\n",
    "\n",
    "    try:\n",
    "        s3_client.put_object(Bucket=bucket, Key=object_name, Body=csv_buffer.getvalue())\n",
    "    except ClientError as e:\n",
    "        logging.error(e)\n",
    "        return False\n",
    "    return True"
   ]
  },
  {
   "cell_type": "code",
   "execution_count": 9,
   "metadata": {},
   "outputs": [],
   "source": [
    "import boto3\n",
    "import logging\n",
    "from botocore.exceptions import ClientError\n",
    "\n",
    "def upload_pdf_to_s3(pdf_binary, bucket, object_name):\n",
    "    \"\"\"\n",
    "    Upload a PDF to an S3 bucket.\n",
    "\n",
    "    :param pdf_binary: Binary stream of the PDF file\n",
    "    :param bucket: Bucket to upload to\n",
    "    :param object_name: S3 object name\n",
    "    :return: True if the PDF was uploaded, else False\n",
    "    \"\"\"\n",
    "    # When setting up credentials locally, use the following code\n",
    "    session = boto3.Session()\n",
    "    s3_client = session.client('s3')\n",
    "    # # When using IAM roles, boto3 retrieves credentials from the instance metadata\n",
    "    # s3_client = boto3.client('s3')\n",
    "\n",
    "    try:\n",
    "        s3_client.put_object(Bucket=bucket, Key=object_name, Body=pdf_binary)\n",
    "    except ClientError as e:\n",
    "        logging.error(e)\n",
    "        return False\n",
    "    return True\n"
   ]
  },
  {
   "cell_type": "code",
   "execution_count": 14,
   "metadata": {},
   "outputs": [
    {
     "name": "stdout",
     "output_type": "stream",
     "text": [
      "3\n",
      "2024-01-09\n",
      "Hansard link found:https://hansard.parliament.uk/pdf/commons/2024-01-09 for 2024-01-09\n",
      "PDF downloaded for 2024-01-09\n",
      "2024-01-10\n",
      "Hansard link found:https://hansard.parliament.uk/pdf/commons/2024-01-10 for 2024-01-10\n",
      "PDF downloaded for 2024-01-10\n",
      "2024-01-11\n",
      "Hansard link found:https://hansard.parliament.uk/pdf/commons/2024-01-11 for 2024-01-11\n",
      "PDF downloaded for 2024-01-11\n"
     ]
    },
    {
     "data": {
      "text/plain": [
       "True"
      ]
     },
     "execution_count": 14,
     "metadata": {},
     "output_type": "execute_result"
    }
   ],
   "source": [
    "#Generate a list of dates\n",
    "import datetime\n",
    "start_date = datetime.date(2024, 1, 9)\n",
    "end_date = datetime.date(2024, 1, 11)\n",
    "delta = datetime.timedelta(days=1)\n",
    "dates = []\n",
    "while start_date <= end_date:\n",
    "    dates.append(start_date)\n",
    "    start_date += delta\n",
    "\n",
    "\n",
    "\n",
    "Hansard_NoSitting = []\n",
    "bucket_name = 'myukdata'\n",
    "folder_path = 'Hansard'\n",
    "# Create a list of file names with the name formatted as 'Hansard_YYYY-MM-DD.txt'\n",
    "object_names = [f\"{folder_path}/Hansard_{date.strftime('%Y-%m-%d')}.txt\" for date in dates]\n",
    "print(len(object_names))\n",
    "\n",
    "\n",
    "    \n",
    "for date in dates:\n",
    "    print(date)\n",
    "    hansard_url = build_url_for_date(date)\n",
    "    if hansard_url == []:\n",
    "        Hansard_NoSitting.append(date.strftime('%Y-%m-%d'))\n",
    "        print(f\"No Hansard links found for {date}\")\n",
    "    else:\n",
    "            print(f\"Hansard link found:{hansard_url} for {date}\")\n",
    "            response_pdf = requests.get(hansard_url, impersonate='chrome110')\n",
    "            if response_pdf.status_code == 200:\n",
    "                print(f\"PDF downloaded for {date}\")\n",
    "                # Extract binary content from response\n",
    "                pdf_binary_content = response_pdf.content\n",
    "                # Upload the DataFrame to S3\n",
    "                upload_pdf_to_s3(pdf_binary_content, bucket_name, f\"{folder_path}/Hansard_{date.strftime('%Y-%m-%d')}.pdf\")\n",
    "            else:\n",
    "                print(f\"Text download failed for {date}\")\n",
    "Hansard_NoSitting = pd.DataFrame(Hansard_NoSitting)\n",
    "if Hansard_NoSitting.empty == False:\n",
    "    Hansard_NoSitting.columns = ['Date']\n",
    "upload_df_to_s3(Hansard_NoSitting, bucket_name, f\"{folder_path}/Hansard_NoSitting.csv\")\n",
    "\n"
   ]
  }
 ],
 "metadata": {
  "kernelspec": {
   "display_name": "Python 3",
   "language": "python",
   "name": "python3"
  },
  "language_info": {
   "codemirror_mode": {
    "name": "ipython",
    "version": 3
   },
   "file_extension": ".py",
   "mimetype": "text/x-python",
   "name": "python",
   "nbconvert_exporter": "python",
   "pygments_lexer": "ipython3",
   "version": "3.11.1"
  },
  "orig_nbformat": 4,
  "vscode": {
   "interpreter": {
    "hash": "aee8b7b246df8f9039afb4144a1f6fd8d2ca17a180786b69acc140d282b71a49"
   }
  }
 },
 "nbformat": 4,
 "nbformat_minor": 2
}
