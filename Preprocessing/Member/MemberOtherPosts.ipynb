{
 "cells": [
  {
   "cell_type": "code",
   "execution_count": 16,
   "metadata": {},
   "outputs": [],
   "source": [
    "import boto3\n",
    "import pandas as pd\n",
    "import numpy as np"
   ]
  },
  {
   "cell_type": "code",
   "execution_count": 17,
   "metadata": {},
   "outputs": [],
   "source": [
    "def download_file_from_s3(bucket, object_name, local_file_name):\n",
    "    \"\"\"\n",
    "    Download a file from S3 to the local file system.\n",
    "\n",
    "    :param bucket: Name of the S3 bucket\n",
    "    :param object_name: S3 object name\n",
    "    :param local_file_name: Local file name to save the downloaded file\n",
    "    \"\"\"\n",
    "    # # When using IAM roles, boto3 retrieves credentials from the instance metadata\n",
    "    # s3_client = boto3.client('s3')\n",
    "\n",
    "    #When setting up credentials locally, use the following code\n",
    "    session = boto3.Session()\n",
    "    s3_client = session.client('s3')\n",
    "\n",
    "    s3_client.download_file(bucket, object_name, local_file_name)\n",
    "\n",
    "bucket_name = 'myukdata'\n",
    "s3_file_name = 'Original/Member/Member_OtherPosts.csv'\n",
    "local_file = 'Member_OtherPosts.csv'\n",
    "download_file_from_s3(bucket_name, s3_file_name, local_file)"
   ]
  },
  {
   "cell_type": "code",
   "execution_count": 18,
   "metadata": {},
   "outputs": [
    {
     "name": "stdout",
     "output_type": "stream",
     "text": [
      "<class 'pandas.core.frame.DataFrame'>\n",
      "RangeIndex: 613 entries, 0 to 612\n",
      "Data columns (total 8 columns):\n",
      " #   Column              Non-Null Count  Dtype  \n",
      "---  ------              --------------  -----  \n",
      " 0   memberID            613 non-null    int64  \n",
      " 1   house               562 non-null    float64\n",
      " 2   name                613 non-null    object \n",
      " 3   id                  613 non-null    int64  \n",
      " 4   startDate           613 non-null    object \n",
      " 5   endDate             542 non-null    object \n",
      " 6   additionalInfo      0 non-null      float64\n",
      " 7   additionalInfoLink  0 non-null      float64\n",
      "dtypes: float64(3), int64(2), object(3)\n",
      "memory usage: 38.4+ KB\n"
     ]
    },
    {
     "data": {
      "text/html": [
       "<div>\n",
       "<style scoped>\n",
       "    .dataframe tbody tr th:only-of-type {\n",
       "        vertical-align: middle;\n",
       "    }\n",
       "\n",
       "    .dataframe tbody tr th {\n",
       "        vertical-align: top;\n",
       "    }\n",
       "\n",
       "    .dataframe thead th {\n",
       "        text-align: right;\n",
       "    }\n",
       "</style>\n",
       "<table border=\"1\" class=\"dataframe\">\n",
       "  <thead>\n",
       "    <tr style=\"text-align: right;\">\n",
       "      <th></th>\n",
       "      <th>memberID</th>\n",
       "      <th>house</th>\n",
       "      <th>name</th>\n",
       "      <th>id</th>\n",
       "      <th>startDate</th>\n",
       "      <th>endDate</th>\n",
       "      <th>additionalInfo</th>\n",
       "      <th>additionalInfoLink</th>\n",
       "    </tr>\n",
       "  </thead>\n",
       "  <tbody>\n",
       "    <tr>\n",
       "      <th>0</th>\n",
       "      <td>7</td>\n",
       "      <td>1.0</td>\n",
       "      <td>Deputy Chair, Conservative Party</td>\n",
       "      <td>766</td>\n",
       "      <td>2004-09-01T00:00:00</td>\n",
       "      <td>2005-11-01T00:00:00</td>\n",
       "      <td>NaN</td>\n",
       "      <td>NaN</td>\n",
       "    </tr>\n",
       "    <tr>\n",
       "      <th>1</th>\n",
       "      <td>8</td>\n",
       "      <td>1.0</td>\n",
       "      <td>Leader of the Conservative Party</td>\n",
       "      <td>787</td>\n",
       "      <td>2016-07-11T00:00:00</td>\n",
       "      <td>2019-06-07T00:00:00</td>\n",
       "      <td>NaN</td>\n",
       "      <td>NaN</td>\n",
       "    </tr>\n",
       "    <tr>\n",
       "      <th>2</th>\n",
       "      <td>8</td>\n",
       "      <td>1.0</td>\n",
       "      <td>Party Chair, Conservative Party</td>\n",
       "      <td>805</td>\n",
       "      <td>2002-07-23T00:00:00</td>\n",
       "      <td>2003-12-06T00:00:00</td>\n",
       "      <td>NaN</td>\n",
       "      <td>NaN</td>\n",
       "    </tr>\n",
       "    <tr>\n",
       "      <th>3</th>\n",
       "      <td>11</td>\n",
       "      <td>1.0</td>\n",
       "      <td>Vice-Chair, Labour Party</td>\n",
       "      <td>824</td>\n",
       "      <td>2007-06-28T00:00:00</td>\n",
       "      <td>2010-05-06T00:00:00</td>\n",
       "      <td>NaN</td>\n",
       "      <td>NaN</td>\n",
       "    </tr>\n",
       "    <tr>\n",
       "      <th>4</th>\n",
       "      <td>13</td>\n",
       "      <td>1.0</td>\n",
       "      <td>Deputy Chair, Conservative Party</td>\n",
       "      <td>766</td>\n",
       "      <td>1995-07-01T00:00:00</td>\n",
       "      <td>1998-07-01T00:00:00</td>\n",
       "      <td>NaN</td>\n",
       "      <td>NaN</td>\n",
       "    </tr>\n",
       "  </tbody>\n",
       "</table>\n",
       "</div>"
      ],
      "text/plain": [
       "   memberID  house                              name   id  \\\n",
       "0         7    1.0  Deputy Chair, Conservative Party  766   \n",
       "1         8    1.0  Leader of the Conservative Party  787   \n",
       "2         8    1.0   Party Chair, Conservative Party  805   \n",
       "3        11    1.0          Vice-Chair, Labour Party  824   \n",
       "4        13    1.0  Deputy Chair, Conservative Party  766   \n",
       "\n",
       "             startDate              endDate  additionalInfo  \\\n",
       "0  2004-09-01T00:00:00  2005-11-01T00:00:00             NaN   \n",
       "1  2016-07-11T00:00:00  2019-06-07T00:00:00             NaN   \n",
       "2  2002-07-23T00:00:00  2003-12-06T00:00:00             NaN   \n",
       "3  2007-06-28T00:00:00  2010-05-06T00:00:00             NaN   \n",
       "4  1995-07-01T00:00:00  1998-07-01T00:00:00             NaN   \n",
       "\n",
       "   additionalInfoLink  \n",
       "0                 NaN  \n",
       "1                 NaN  \n",
       "2                 NaN  \n",
       "3                 NaN  \n",
       "4                 NaN  "
      ]
     },
     "execution_count": 18,
     "metadata": {},
     "output_type": "execute_result"
    }
   ],
   "source": [
    "df = pd.read_csv('Member_OtherPosts.csv')\n",
    "df.info()\n",
    "pd.set_option('display.max_rows', None)\n",
    "df.head()"
   ]
  },
  {
   "cell_type": "code",
   "execution_count": 19,
   "metadata": {},
   "outputs": [],
   "source": [
    "df.drop(columns=['house',\n",
    "                 'id',\n",
    "                 'additionalInfo',\n",
    "                 'additionalInfoLink'], inplace=True)\n",
    "df['startDate'] = pd.to_datetime(df['startDate'])\n",
    "df['endDate'] = pd.to_datetime(df['endDate'])"
   ]
  },
  {
   "cell_type": "code",
   "execution_count": 20,
   "metadata": {},
   "outputs": [
    {
     "name": "stdout",
     "output_type": "stream",
     "text": [
      "<class 'pandas.core.frame.DataFrame'>\n",
      "RangeIndex: 613 entries, 0 to 612\n",
      "Data columns (total 4 columns):\n",
      " #   Column     Non-Null Count  Dtype         \n",
      "---  ------     --------------  -----         \n",
      " 0   memberID   613 non-null    int64         \n",
      " 1   name       613 non-null    object        \n",
      " 2   startDate  613 non-null    datetime64[ns]\n",
      " 3   endDate    542 non-null    datetime64[ns]\n",
      "dtypes: datetime64[ns](2), int64(1), object(1)\n",
      "memory usage: 19.3+ KB\n"
     ]
    },
    {
     "data": {
      "text/html": [
       "<div>\n",
       "<style scoped>\n",
       "    .dataframe tbody tr th:only-of-type {\n",
       "        vertical-align: middle;\n",
       "    }\n",
       "\n",
       "    .dataframe tbody tr th {\n",
       "        vertical-align: top;\n",
       "    }\n",
       "\n",
       "    .dataframe thead th {\n",
       "        text-align: right;\n",
       "    }\n",
       "</style>\n",
       "<table border=\"1\" class=\"dataframe\">\n",
       "  <thead>\n",
       "    <tr style=\"text-align: right;\">\n",
       "      <th></th>\n",
       "      <th>memberID</th>\n",
       "      <th>name</th>\n",
       "      <th>startDate</th>\n",
       "      <th>endDate</th>\n",
       "    </tr>\n",
       "  </thead>\n",
       "  <tbody>\n",
       "    <tr>\n",
       "      <th>0</th>\n",
       "      <td>7</td>\n",
       "      <td>Deputy Chair, Conservative Party</td>\n",
       "      <td>2004-09-01</td>\n",
       "      <td>2005-11-01</td>\n",
       "    </tr>\n",
       "    <tr>\n",
       "      <th>1</th>\n",
       "      <td>8</td>\n",
       "      <td>Leader of the Conservative Party</td>\n",
       "      <td>2016-07-11</td>\n",
       "      <td>2019-06-07</td>\n",
       "    </tr>\n",
       "    <tr>\n",
       "      <th>2</th>\n",
       "      <td>8</td>\n",
       "      <td>Party Chair, Conservative Party</td>\n",
       "      <td>2002-07-23</td>\n",
       "      <td>2003-12-06</td>\n",
       "    </tr>\n",
       "    <tr>\n",
       "      <th>3</th>\n",
       "      <td>11</td>\n",
       "      <td>Vice-Chair, Labour Party</td>\n",
       "      <td>2007-06-28</td>\n",
       "      <td>2010-05-06</td>\n",
       "    </tr>\n",
       "    <tr>\n",
       "      <th>4</th>\n",
       "      <td>13</td>\n",
       "      <td>Deputy Chair, Conservative Party</td>\n",
       "      <td>1995-07-01</td>\n",
       "      <td>1998-07-01</td>\n",
       "    </tr>\n",
       "  </tbody>\n",
       "</table>\n",
       "</div>"
      ],
      "text/plain": [
       "   memberID                              name  startDate    endDate\n",
       "0         7  Deputy Chair, Conservative Party 2004-09-01 2005-11-01\n",
       "1         8  Leader of the Conservative Party 2016-07-11 2019-06-07\n",
       "2         8   Party Chair, Conservative Party 2002-07-23 2003-12-06\n",
       "3        11          Vice-Chair, Labour Party 2007-06-28 2010-05-06\n",
       "4        13  Deputy Chair, Conservative Party 1995-07-01 1998-07-01"
      ]
     },
     "execution_count": 20,
     "metadata": {},
     "output_type": "execute_result"
    }
   ],
   "source": [
    "df.info()\n",
    "df.head()"
   ]
  },
  {
   "cell_type": "code",
   "execution_count": 22,
   "metadata": {},
   "outputs": [],
   "source": [
    "df.rename(columns={'memberID': 'memberId',\n",
    "                     'name': 'postName'}, inplace=True)"
   ]
  },
  {
   "cell_type": "code",
   "execution_count": 23,
   "metadata": {},
   "outputs": [
    {
     "name": "stdout",
     "output_type": "stream",
     "text": [
      "<class 'pandas.core.frame.DataFrame'>\n",
      "RangeIndex: 613 entries, 0 to 612\n",
      "Data columns (total 4 columns):\n",
      " #   Column     Non-Null Count  Dtype         \n",
      "---  ------     --------------  -----         \n",
      " 0   memberId   613 non-null    int64         \n",
      " 1   postName   613 non-null    object        \n",
      " 2   startDate  613 non-null    datetime64[ns]\n",
      " 3   endDate    542 non-null    datetime64[ns]\n",
      "dtypes: datetime64[ns](2), int64(1), object(1)\n",
      "memory usage: 19.3+ KB\n"
     ]
    }
   ],
   "source": [
    "df.info()"
   ]
  }
 ],
 "metadata": {
  "kernelspec": {
   "display_name": "Python 3",
   "language": "python",
   "name": "python3"
  },
  "language_info": {
   "codemirror_mode": {
    "name": "ipython",
    "version": 3
   },
   "file_extension": ".py",
   "mimetype": "text/x-python",
   "name": "python",
   "nbconvert_exporter": "python",
   "pygments_lexer": "ipython3",
   "version": "3.11.1"
  }
 },
 "nbformat": 4,
 "nbformat_minor": 2
}
