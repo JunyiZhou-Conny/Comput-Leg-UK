{
 "cells": [
  {
   "cell_type": "code",
   "execution_count": 52,
   "metadata": {},
   "outputs": [
    {
     "ename": "ModuleNotFoundError",
     "evalue": "No module named 'pdfminer'",
     "output_type": "error",
     "traceback": [
      "\u001b[0;31m---------------------------------------------------------------------------\u001b[0m",
      "\u001b[0;31mModuleNotFoundError\u001b[0m                       Traceback (most recent call last)",
      "Cell \u001b[0;32mIn[52], line 16\u001b[0m\n\u001b[1;32m     14\u001b[0m \u001b[38;5;28;01mimport\u001b[39;00m \u001b[38;5;21;01mlogging\u001b[39;00m\n\u001b[1;32m     15\u001b[0m \u001b[38;5;28;01mimport\u001b[39;00m \u001b[38;5;21;01mdatetime\u001b[39;00m\n\u001b[0;32m---> 16\u001b[0m \u001b[38;5;28;01mfrom\u001b[39;00m \u001b[38;5;21;01mpdfminer\u001b[39;00m\u001b[38;5;21;01m.\u001b[39;00m\u001b[38;5;21;01mhigh_level\u001b[39;00m \u001b[38;5;28;01mimport\u001b[39;00m extract_text\n\u001b[1;32m     17\u001b[0m \u001b[38;5;28;01mfrom\u001b[39;00m \u001b[38;5;21;01mpdfminer\u001b[39;00m\u001b[38;5;21;01m.\u001b[39;00m\u001b[38;5;21;01mlayout\u001b[39;00m \u001b[38;5;28;01mimport\u001b[39;00m LAParams\n\u001b[1;32m     19\u001b[0m \u001b[38;5;66;03m# Set up layout analysis parameters\u001b[39;00m\n",
      "\u001b[0;31mModuleNotFoundError\u001b[0m: No module named 'pdfminer'"
     ]
    }
   ],
   "source": [
    "'''\n",
    "Author: Conny Zhou\n",
    "Email: junyi.zhou@emory.edu\n",
    "Last Updated: 01/12/2024\n",
    "'''\n",
    "#Importing the necessary libraries\n",
    "from curl_cffi import requests\n",
    "from bs4 import BeautifulSoup\n",
    "import pandas as pd\n",
    "from botocore.exceptions import ClientError\n",
    "import PyPDF2\n",
    "import boto3\n",
    "import io\n",
    "import logging\n",
    "import datetime\n",
    "from pdfminer.high_level import extract_text\n",
    "from pdfminer.layout import LAParams\n",
    "\n",
    "# Set up layout analysis parameters\n",
    "laparams = LAParams()\n",
    "# For example, setting all_boxes_flow can help with the placement of newlines\n",
    "laparams.all_boxes_flow = False\n",
    "\n",
    "# Extract text using the specified layout analysis parameters\n",
    "extracted_text = extract_text('example.pdf', page_numbers=[3], laparams=laparams)\n",
    "\n",
    "print(extracted_text)\n",
    "\n",
    "\n"
   ]
  },
  {
   "cell_type": "code",
   "execution_count": 42,
   "metadata": {},
   "outputs": [],
   "source": [
    "# Function to upload a file to an S3 bucket\n",
    "def upload_txt_to_s3(txt_binary, bucket, object_name):\n",
    "    \"\"\"\n",
    "    Upload a txt to an S3 bucket.\n",
    "\n",
    "    :param txt_binary: Binary stream of the txt file\n",
    "    :param bucket: Bucket to upload to\n",
    "    :param object_name: S3 object name\n",
    "    :return: True if the txt was uploaded, else False\n",
    "    \"\"\"\n",
    "    # When setting up credentials locally, use the following code\n",
    "    session = boto3.Session()\n",
    "    s3_client = session.client('s3')\n",
    "    # # When using IAM roles, boto3 retrieves credentials from the instance metadata\n",
    "    # s3_client = boto3.client('s3')\n",
    "\n",
    "    try:\n",
    "        s3_client.put_object(Bucket=bucket, Key=object_name, Body=txt_binary)\n",
    "    except ClientError as e:\n",
    "        logging.error(e)\n",
    "        return False\n",
    "    return True\n"
   ]
  },
  {
   "cell_type": "code",
   "execution_count": 49,
   "metadata": {},
   "outputs": [
    {
     "name": "stdout",
     "output_type": "stream",
     "text": [
      "2014-12-04\n",
      "Hansard link found:https://hansard.parliament.uk/pdf/commons/2014-12-04 for 2014-12-04\n",
      "Text uploaded successfully for 2014-12-04\n"
     ]
    }
   ],
   "source": [
    "#Generate a list of dates\n",
    "start_date = datetime.date(2014, 12, 4)\n",
    "end_date = datetime.date(2014, 12, 4)\n",
    "delta = datetime.timedelta(days=1)\n",
    "dates = []\n",
    "while start_date <= end_date:\n",
    "    dates.append(start_date)\n",
    "    start_date += delta\n",
    "\n",
    "\n",
    "#Prepare the S3 bucket and folder\n",
    "bucket_name = 'myukdata'\n",
    "folder_path = 'Hansard_txt'\n",
    "\n",
    "\n",
    "# Generate a list of URL that does not have a sitting\n",
    "Hansard_NoSitting = []\n",
    "\n",
    "\n",
    "# Set up a request session\n",
    "session = requests.Session()\n",
    "\n",
    "\n",
    "# Base URL for the Hansard site\n",
    "base_url = 'https://hansard.parliament.uk/pdf/commons/'\n",
    "\n",
    "\n",
    "# Function to build the full URL for a given date\n",
    "def build_url_for_date(date):\n",
    "    return f\"{base_url}{date}\"   \n",
    " \n",
    "\n",
    "for date in dates:\n",
    "    print(date)\n",
    "    hansard_url = build_url_for_date(date)\n",
    "    response_pdf = requests.get(hansard_url, impersonate='chrome110')\n",
    "    if response_pdf.status_code == 200:\n",
    "        print(f\"Hansard link found:{hansard_url} for {date}\")\n",
    "        # Extract binary content from response\n",
    "        pdf_binary_content = response_pdf.content\n",
    "        # Turn the binary content into a file-like object\n",
    "        pdf_file = io.BytesIO(pdf_binary_content)\n",
    "        # Create a PdfReader object\n",
    "        pdf_reader = PyPDF2.PdfReader(pdf_file)\n",
    "\n",
    "        # Extract the text from each page of the PDF\n",
    "        text = \"\"\n",
    "        for page in pdf_reader.pages:\n",
    "            text += page.extract_text()\n",
    "\n",
    "        # Save the extracted text to a text file\n",
    "        text_file_path = f\"Hansard_{date.strftime('%Y-%m-%d')}.txt\"\n",
    "        \n",
    "        with open(text_file_path, \"w\") as text_file:\n",
    "            text_file.write(text)\n",
    "\n",
    "        # Upload the text_files to S3\n",
    "        if upload_txt_to_s3(txt_binary=text, bucket=bucket_name, object_name=f\"{folder_path}/Hansard_{date.strftime('%Y-%m-%d')}.txt\"):\n",
    "            print(f\"Text uploaded successfully for {date}\")\n",
    "        else:\n",
    "            # Add the date to the list of dates with no sitting\n",
    "            Hansard_NoSitting.append(date.strftime('%Y-%m-%d'))\n",
    "            print(f\"Text upload failed for {date}\")\n",
    "\n"
   ]
  },
  {
   "cell_type": "code",
   "execution_count": 51,
   "metadata": {},
   "outputs": [
    {
     "data": {
      "text/plain": [
       "'Mr Hayes: Barely a night goes by when I do not\\ndream about the Powick roundabout and the Carringtonbridge, as my hon. Friend knows, and I shall certainlycontinue the dialogue that he described. I think it wouldbe useful to have a meeting with him and other localpeople, including county councillors, to decide whatcan be done in this local scheme. It would, of course, bea matter for local discretion, but none the less, if we canplay a part in helping, we will.\\nMr Clive Betts (Sheffield South East) (Lab): The\\nother week, my hon. Friend the Member for Penistoneand Stocksbridge (Angela Smith) and I drove the Under-Secretary of State for Transport, the hon. Member forScarborough and Whitby (Mr Goodwill), across thePennines from Sheffield towards Manchester. I did notthink he could understand how bad the Woodhead passwas, and why people willingly drove over it, until wetook him back over the Snake pass. A few crawler laneson the Woodhead might be a short-term sticking-plaster,but in the end it is a tunnel under the Pennines—afterall, they are only 2,000 feet high—that is the reallong-term answer. When is the review of such a projectlikely to start, who is likely to conduct it, and when,realistically, could work actually start if the go-ahead isgiven?\\nMr Hayes: The hon. Gentleman is right to highlight\\nthe issues around the Snake pass. I know there aresafety concerns there, and I have obviously used theroad myself. He knows that this Government have attheir very heart the idea of a northern powerhouse. Weare championing the interests of the north of England,perhaps to a greater degree than any previous Government.To that end, I shall look at all the specific questions thatthe hon. Gentleman asks on timing, on detail and onplanning, and I shall be more than happy to addressthem directly with him.\\nSir Alan Haselhurst (Saffron Walden) (Con): Will my\\nright hon. Friend direct his attention to junction 8 onthe M11, the second name of which might be “Congestion”?Is he aware that the decision to site the motorwayservices area at the junction that is the main entrance toStansted airport has been the cause of that and is now,apparently, being seen as a block to any plans for thehousing that is needed in the area?\\nMr Hayes: This is not the first time that my right hon.\\nFriend has raised this matter. Indeed, since I became aTransport Minister, I have spent a good deal of my lifeanswering his perfectly proper and assiduous inquiriesand representations on behalf of his constituents ontransport-related affairs. He is right that there is ahistory of congestion in that area, and I would be morethan happy to look at it and take his advice andguidance on the matter.\\nRichard Burden (Birmingham, Northfield) (Lab): Back\\nin September, the Public Accounts Committee describedthe Government’s approach to local road maintenance,which, as we know, is a major cause of congestion, as“ludicrous”. Now, despite the rather bashful claims thatthe Minister has made today about Monday’s roadannouncement, I have not actually heard members ofthe PAC queuing up to say that they have changed theirmind. Does that not tell him something?Mr Hayes: While I focus—understandably, I hope—on\\nthe major changes that we are making as a result of thisunprecedented road investment strategy, this extraordinarilybold and long-term vision, the hon. Gentleman is rightthat local roads matter too. That is why we are spendingjust short of £1 billion a year, and why we have plannedto resurface 80% of the roads in the whole country. Allroads, in the end, are local, aren’t they, and local roadswill not be neglected under this Administration.\\nEast Coast Main Line\\n4.Chi Onwurah (Newcastle upon Tyne Central) (Lab):\\nWhat assessment he has made of the recentperformance of east coast main line services.\\n[906431]\\nThe Secretary of State for Transport (Mr Patrick\\nMcLoughlin): My officials meet East Coast and Directly\\nOperated Railways on a regular basis to discuss theperformance of the franchise. DOR’s financial accountsare published on its website on an annual basis.\\nChi Onwurah: When the Secretary of State announced\\nthe reckless and ideologically driven privatisation ofthis beloved and excellently performing public sectorservice, he made a commitment on the frequency ofservices from Newcastle, but not their cost, so will hetell me now whether prices will go down or be frozen, orwill they go up for the profits of Stagecoach and at theexpense of my constituents?\\nMr McLoughlin: As I announced last week on a very\\nsuccessful bid as far as Virgin-Stagecoach were concerned,they will reduce the costs on some of the most expensivetickets on that route. I would also point out that theVirgin-Stagecoach bid includes £140 million of investment,including £21 million on presentation and performanceenhancements to the current fleet; £20 million onenhancements to the new intercity express programmefleet; and a £4 million fund for customer stakeholderimprovement, among many, many more enhancements.If there was any party that reflected dogma last week, itwas the Labour party.\\nMartin Vickers (Cleethorpes) (Con): My constituents\\nwill welcome the improved performance on the eastcoast main line, but in order to access services on themain line, they have to travel on the TransPenninenetwork. Does my right hon. Friend have any informationabout future services on that line?\\nMr McLoughlin: My hon. Friend, along with the\\nGrimsby and Scunthorpe Telegraph , has led an interesting\\ncampaign. I am pleased to say that after considerationof the responses to our consultation on the Northernand TransPennine Express franchise, we have decidedto retain the Cleethorpes services within the TPE franchise.The forthcoming invitation to tender for the TPE franchisewill specify that direct services between Cleethorpesand Manchester airport should continue. I know thatmy hon. Friends the Members for Cleethorpes (MartinVickers) and for Brigg and Goole (Andrew Percy) haveboth been at the forefront of this campaign, and I amvery pleased to announce today that it has been successful.\\nMichael Dugher (Barnsley East) (Lab): Polling shows\\nthat a majority of the public oppose the Government’splans to privatise the east coast main line, and people intheir thousands are signing the petition launched byLabour this week. Given that the east coast service has407 408\\n4 DECEMBER 2014 Oral Answers Oral Answers'"
      ]
     },
     "execution_count": 51,
     "metadata": {},
     "output_type": "execute_result"
    }
   ],
   "source": [
    "pdf_reader.pages[3].extract_text()"
   ]
  },
  {
   "cell_type": "code",
   "execution_count": null,
   "metadata": {},
   "outputs": [],
   "source": [
    "#A function to upload a DataFrame to an S3 bucket as CSV, particularly for the Hansard_NoSitting list\n",
    "def upload_df_to_s3(df, bucket, object_name):\n",
    "    \"\"\"\n",
    "    Upload a DataFrame to an S3 bucket as CSV.\n",
    "\n",
    "    :param df: DataFrame to upload\n",
    "    :param bucket: Bucket to upload to\n",
    "    :param object_name: S3 object name\n",
    "    :return: True if the DataFrame was uploaded, else False\n",
    "    \"\"\"\n",
    "    # Create a buffer\n",
    "    csv_buffer = io.StringIO()\n",
    "    df.to_csv(csv_buffer, index=False)\n",
    "\n",
    "    # Move to the start of the buffer\n",
    "    csv_buffer.seek(0)\n",
    "\n",
    "    #When setting up credentials locally, use the following code\n",
    "    session = boto3.Session()\n",
    "    s3_client = session.client('s3')\n",
    "    # # # When using IAM roles, boto3 retrieves credentials from the instance metadata\n",
    "    # s3_client = boto3.client('s3')\n",
    "\n",
    "\n",
    "    try:\n",
    "        s3_client.put_object(Bucket=bucket, Key=object_name, Body=csv_buffer.getvalue())\n",
    "    except ClientError as e:\n",
    "        logging.error(e)\n",
    "        return False\n",
    "    return True\n",
    "\n",
    "Hansard_NoSitting = pd.DataFrame(Hansard_NoSitting)\n",
    "if Hansard_NoSitting.empty == False:\n",
    "    Hansard_NoSitting.columns = ['Date']\n",
    "upload_df_to_s3(Hansard_NoSitting, bucket_name, f\"{folder_path}/Hansard_NoSitting.csv\")\n",
    "\n"
   ]
  }
 ],
 "metadata": {
  "kernelspec": {
   "display_name": "Python 3",
   "language": "python",
   "name": "python3"
  },
  "language_info": {
   "codemirror_mode": {
    "name": "ipython",
    "version": 3
   },
   "file_extension": ".py",
   "mimetype": "text/x-python",
   "name": "python",
   "nbconvert_exporter": "python",
   "pygments_lexer": "ipython3",
   "version": "3.11.1"
  },
  "orig_nbformat": 4,
  "vscode": {
   "interpreter": {
    "hash": "aee8b7b246df8f9039afb4144a1f6fd8d2ca17a180786b69acc140d282b71a49"
   }
  }
 },
 "nbformat": 4,
 "nbformat_minor": 2
}
