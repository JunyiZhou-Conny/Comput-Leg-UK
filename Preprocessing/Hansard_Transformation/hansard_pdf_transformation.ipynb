{
 "cells": [
  {
   "cell_type": "code",
   "execution_count": 1,
   "metadata": {},
   "outputs": [],
   "source": [
    "'''\n",
    "Author: Conny Zhou\n",
    "Email: junyi.zhou@emory.edu\n",
    "Last Updated: 02/06/2024\n",
    "'''\n",
    "#Importing the necessary libraries\n",
    "from curl_cffi import requests\n",
    "from bs4 import BeautifulSoup\n",
    "import pandas as pd\n",
    "from botocore.exceptions import ClientError\n",
    "import PyPDF2\n",
    "import fitz\n",
    "import boto3\n",
    "import io\n",
    "import logging\n",
    "import datetime\n",
    "\n"
   ]
  },
  {
   "cell_type": "code",
   "execution_count": 2,
   "metadata": {},
   "outputs": [],
   "source": [
    "# Function to upload a file to an S3 bucket\n",
    "def upload_txt_to_s3(txt_binary, bucket, object_name):\n",
    "    \"\"\"\n",
    "    Upload a txt to an S3 bucket.\n",
    "\n",
    "    :param txt_binary: Binary stream of the txt file\n",
    "    :param bucket: Bucket to upload to\n",
    "    :param object_name: S3 object name\n",
    "    :return: True if the txt was uploaded, else False\n",
    "    \"\"\"\n",
    "    # When setting up credentials locally, use the following code\n",
    "    session = boto3.Session()\n",
    "    s3_client = session.client('s3')\n",
    "    # # When using IAM roles, boto3 retrieves credentials from the instance metadata\n",
    "    # s3_client = boto3.client('s3')\n",
    "\n",
    "    try:\n",
    "        s3_client.put_object(Bucket=bucket, Key=object_name, Body=txt_binary)\n",
    "    except ClientError as e:\n",
    "        logging.error(e)\n",
    "        return False\n",
    "    return True\n"
   ]
  },
  {
   "cell_type": "code",
   "execution_count": 9,
   "metadata": {},
   "outputs": [
    {
     "name": "stdout",
     "output_type": "stream",
     "text": [
      "2014-12-04\n",
      "Hansard link found:https://hansard.parliament.uk/pdf/commons/2014-12-04 for 2014-12-04\n",
      "Text uploaded successfully for 2014-12-04\n"
     ]
    }
   ],
   "source": [
    "#Generate a list of dates\n",
    "start_date = datetime.date(2014, 12, 4)\n",
    "end_date = datetime.date(2024, 2, 6)\n",
    "delta = datetime.timedelta(days=1)\n",
    "dates = []\n",
    "while start_date <= end_date:\n",
    "    dates.append(start_date)\n",
    "    start_date += delta\n",
    "\n",
    "\n",
    "#Prepare the S3 bucket and folder\n",
    "bucket_name = 'myukdata'\n",
    "folder_path = 'Hansard_txt'\n",
    "\n",
    "\n",
    "# Generate a list of URL that does not have a sitting\n",
    "Hansard_NoSitting = []\n",
    "\n",
    "\n",
    "# Set up a request session\n",
    "session = requests.Session()\n",
    "\n",
    "\n",
    "# Base URL for the Hansard site\n",
    "base_url = 'https://hansard.parliament.uk/pdf/commons/'\n",
    "\n",
    "\n",
    "# Function to build the full URL for a given date\n",
    "def build_url_for_date(date):\n",
    "    return f\"{base_url}{date}\"   \n",
    " \n",
    "\n",
    "for date in dates:\n",
    "    print(date)\n",
    "    hansard_url = build_url_for_date(date)\n",
    "    response_pdf = requests.get(hansard_url, impersonate='chrome110')\n",
    "    if response_pdf.status_code == 200:\n",
    "        print(f\"Hansard link found:{hansard_url} for {date}\")\n",
    "        # Extract binary content from response\n",
    "        pdf_binary_content = response_pdf.content\n",
    "        # Turn the binary content into a file-like object\n",
    "        pdf_file = io.BytesIO(pdf_binary_content)\n",
    "        # Create a PdfReader object\n",
    "        pdf_reader = fitz.open(\"pdf\",pdf_binary_content)\n",
    "\n",
    "        # Extract the text from each page of the PDF\n",
    "        text = \"\"\n",
    "        for i in range(len(pdf_reader)):\n",
    "            text += pdf_reader[i].get_text()\n",
    "\n",
    "        # Get text without linebreaks\n",
    "        text = text.replace(\"\\n\", \" \")\n",
    "        # Save the extracted text to a text file\n",
    "        text_file_path = f\"Hansard_{date.strftime('%Y-%m-%d')}.txt\"\n",
    "        \n",
    "        with open(text_file_path, \"w\") as text_file:\n",
    "            text_file.write(text)\n",
    "\n",
    "        # Upload the text_files to S3\n",
    "        if upload_txt_to_s3(txt_binary=text, bucket=bucket_name, object_name=f\"{folder_path}/Hansard_{date.strftime('%Y-%m-%d')}.txt\"):\n",
    "            print(f\"Text uploaded successfully for {date}\")\n",
    "        else:\n",
    "            # Add the date to the list of dates with no sitting\n",
    "            Hansard_NoSitting.append(date.strftime('%Y-%m-%d'))\n",
    "            print(f\"Text upload failed for {date}\")\n",
    "\n"
   ]
  },
  {
   "cell_type": "code",
   "execution_count": 8,
   "metadata": {},
   "outputs": [
    {
     "data": {
      "text/plain": [
       "'Mr Hayes: Barely a night goes by when I do not\\ndream about the Powick roundabout and the Carrington\\nbridge, as my hon. Friend knows, and I shall certainly\\ncontinue the dialogue that he described. I think it would\\nbe useful to have a meeting with him and other local\\npeople, including county councillors, to decide what\\ncan be done in this local scheme. It would, of course, be\\na matter for local discretion, but none the less, if we can\\nplay a part in helping, we will.\\nMr Clive Betts (Sheffield South East) (Lab): The\\nother week, my hon. Friend the Member for Penistone\\nand Stocksbridge (Angela Smith) and I drove the Under-\\nSecretary of State for Transport, the hon. Member for\\nScarborough and Whitby (Mr Goodwill), across the\\nPennines from Sheffield towards Manchester. I did not\\nthink he could understand how bad the Woodhead pass\\nwas, and why people willingly drove over it, until we\\ntook him back over the Snake pass. A few crawler lanes\\non the Woodhead might be a short-term sticking-plaster,\\nbut in the end it is a tunnel under the Pennines—after\\nall, they are only 2,000 feet high—that is the real\\nlong-term answer. When is the review of such a project\\nlikely to start, who is likely to conduct it, and when,\\nrealistically, could work actually start if the go-ahead is\\ngiven?\\nMr Hayes: The hon. Gentleman is right to highlight\\nthe issues around the Snake pass. I know there are\\nsafety concerns there, and I have obviously used the\\nroad myself. He knows that this Government have at\\ntheir very heart the idea of a northern powerhouse. We\\nare championing the interests of the north of England,\\nperhaps to a greater degree than any previous Government.\\nTo that end, I shall look at all the specific questions that\\nthe hon. Gentleman asks on timing, on detail and on\\nplanning, and I shall be more than happy to address\\nthem directly with him.\\nSir Alan Haselhurst (Saffron Walden) (Con): Will my\\nright hon. Friend direct his attention to junction 8 on\\ntheM11,thesecondnameof whichmightbe“Congestion”?\\nIs he aware that the decision to site the motorway\\nservices area at the junction that is the main entrance to\\nStansted airport has been the cause of that and is now,\\napparently, being seen as a block to any plans for the\\nhousing that is needed in the area?\\nMr Hayes: This is not the first time that my right hon.\\nFriend has raised this matter. Indeed, since I became a\\nTransport Minister, I have spent a good deal of my life\\nanswering his perfectly proper and assiduous inquiries\\nand representations on behalf of his constituents on\\ntransport-related affairs. He is right that there is a\\nhistory of congestion in that area, and I would be more\\nthan happy to look at it and take his advice and\\nguidance on the matter.\\nRichard Burden (Birmingham, Northfield) (Lab): Back\\nin September, the Public Accounts Committee described\\nthe Government’s approach to local road maintenance,\\nwhich, as we know, is a major cause of congestion, as\\n“ludicrous”. Now, despite the rather bashful claims that\\nthe Minister has made today about Monday’s road\\nannouncement, I have not actually heard members of\\nthe PAC queuing up to say that they have changed their\\nmind. Does that not tell him something?\\nMr Hayes: While I focus—understandably, I hope—on\\nthe major changes that we are making as a result of this\\nunprecedentedroadinvestmentstrategy,thisextraordinarily\\nbold and long-term vision, the hon. Gentleman is right\\nthat local roads matter too. That is why we are spending\\njust short of £1 billion a year, and why we have planned\\nto resurface 80% of the roads in the whole country. All\\nroads, in the end, are local, aren’t they, and local roads\\nwill not be neglected under this Administration.\\nEast Coast Main Line\\n4. Chi Onwurah (Newcastle upon Tyne Central) (Lab):\\nWhat\\nassessment\\nhe\\nhas\\nmade\\nof\\nthe\\nrecent\\nperformance of east coast main line services.\\n[906431]\\nThe Secretary of State for Transport (Mr Patrick\\nMcLoughlin): My officials meet East Coast and Directly\\nOperated Railways on a regular basis to discuss the\\nperformance of the franchise. DOR’s financial accounts\\nare published on its website on an annual basis.\\nChi Onwurah: When the Secretary of State announced\\nthe reckless and ideologically driven privatisation of\\nthis beloved and excellently performing public sector\\nservice, he made a commitment on the frequency of\\nservices from Newcastle, but not their cost, so will he\\ntell me now whether prices will go down or be frozen, or\\nwill they go up for the profits of Stagecoach and at the\\nexpense of my constituents?\\nMr McLoughlin: As I announced last week on a very\\nsuccessful bid as far as Virgin-Stagecoach were concerned,\\nthey will reduce the costs on some of the most expensive\\ntickets on that route. I would also point out that the\\nVirgin-Stagecoach bid includes £140 million of investment,\\nincluding £21 million on presentation and performance\\nenhancements to the current fleet; £20 million on\\nenhancements to the new intercity express programme\\nfleet; and a £4 million fund for customer stakeholder\\nimprovement, among many, many more enhancements.\\nIf there was any party that reflected dogma last week, it\\nwas the Labour party.\\nMartin Vickers (Cleethorpes) (Con): My constituents\\nwill welcome the improved performance on the east\\ncoast main line, but in order to access services on the\\nmain line, they have to travel on the TransPennine\\nnetwork. Does my right hon. Friend have any information\\nabout future services on that line?\\nMr McLoughlin: My hon. Friend, along with the\\nGrimsby and Scunthorpe Telegraph, has led an interesting\\ncampaign. I am pleased to say that after consideration\\nof the responses to our consultation on the Northern\\nand TransPennine Express franchise, we have decided\\nto retain the Cleethorpes services within the TPE franchise.\\nThe forthcoming invitation to tender for the TPE franchise\\nwill specify that direct services between Cleethorpes\\nand Manchester airport should continue. I know that\\nmy hon. Friends the Members for Cleethorpes (Martin\\nVickers) and for Brigg and Goole (Andrew Percy) have\\nboth been at the forefront of this campaign, and I am\\nvery pleased to announce today that it has been successful.\\nMichael Dugher (Barnsley East) (Lab): Polling shows\\nthat a majority of the public oppose the Government’s\\nplans to privatise the east coast main line, and people in\\ntheir thousands are signing the petition launched by\\nLabour this week. Given that the east coast service has\\n407\\n408\\n4 DECEMBER 2014\\nOral Answers\\nOral Answers\\n'"
      ]
     },
     "execution_count": 8,
     "metadata": {},
     "output_type": "execute_result"
    }
   ],
   "source": [
    "pdf_reader[3].get_text()\n",
    "#Let us wait and decide if we want to use the pdfminer or PyPDF2 to extract the text from the pdf file"
   ]
  },
  {
   "cell_type": "code",
   "execution_count": null,
   "metadata": {},
   "outputs": [],
   "source": [
    "#A function to upload a DataFrame to an S3 bucket as CSV, particularly for the Hansard_NoSitting list\n",
    "def upload_df_to_s3(df, bucket, object_name):\n",
    "    \"\"\"\n",
    "    Upload a DataFrame to an S3 bucket as CSV.\n",
    "\n",
    "    :param df: DataFrame to upload\n",
    "    :param bucket: Bucket to upload to\n",
    "    :param object_name: S3 object name\n",
    "    :return: True if the DataFrame was uploaded, else False\n",
    "    \"\"\"\n",
    "    # Create a buffer\n",
    "    csv_buffer = io.StringIO()\n",
    "    df.to_csv(csv_buffer, index=False)\n",
    "\n",
    "    # Move to the start of the buffer\n",
    "    csv_buffer.seek(0)\n",
    "\n",
    "    #When setting up credentials locally, use the following code\n",
    "    session = boto3.Session()\n",
    "    s3_client = session.client('s3')\n",
    "    # # # When using IAM roles, boto3 retrieves credentials from the instance metadata\n",
    "    # s3_client = boto3.client('s3')\n",
    "\n",
    "\n",
    "    try:\n",
    "        s3_client.put_object(Bucket=bucket, Key=object_name, Body=csv_buffer.getvalue())\n",
    "    except ClientError as e:\n",
    "        logging.error(e)\n",
    "        return False\n",
    "    return True\n",
    "\n",
    "Hansard_NoSitting = pd.DataFrame(Hansard_NoSitting)\n",
    "if Hansard_NoSitting.empty == False:\n",
    "    Hansard_NoSitting.columns = ['Date']\n",
    "upload_df_to_s3(Hansard_NoSitting, bucket_name, f\"{folder_path}/Hansard_NoSitting.csv\")\n",
    "\n"
   ]
  }
 ],
 "metadata": {
  "kernelspec": {
   "display_name": "Python 3",
   "language": "python",
   "name": "python3"
  },
  "language_info": {
   "codemirror_mode": {
    "name": "ipython",
    "version": 3
   },
   "file_extension": ".py",
   "mimetype": "text/x-python",
   "name": "python",
   "nbconvert_exporter": "python",
   "pygments_lexer": "ipython3",
   "version": "3.11.1"
  },
  "orig_nbformat": 4,
  "vscode": {
   "interpreter": {
    "hash": "aee8b7b246df8f9039afb4144a1f6fd8d2ca17a180786b69acc140d282b71a49"
   }
  }
 },
 "nbformat": 4,
 "nbformat_minor": 2
}
