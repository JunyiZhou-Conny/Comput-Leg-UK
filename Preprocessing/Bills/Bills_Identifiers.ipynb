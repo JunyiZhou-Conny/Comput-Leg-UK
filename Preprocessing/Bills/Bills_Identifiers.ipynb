{
 "cells": [
  {
   "cell_type": "code",
   "execution_count": 16,
   "metadata": {},
   "outputs": [],
   "source": [
    "import boto3\n",
    "import pandas as pd\n",
    "import numpy as np\n",
    "import io\n",
    "import requests\n",
    "from botocore.exceptions import ClientError\n"
   ]
  },
  {
   "cell_type": "code",
   "execution_count": 13,
   "metadata": {},
   "outputs": [],
   "source": [
    "# Set pandas to display all rows\n",
    "pd.set_option('display.max_rows', None)\n",
    "def download_file_from_s3(bucket, object_name, local_file_name):\n",
    "    \"\"\"\n",
    "    Download a file from S3 to the local file system.\n",
    "\n",
    "    :param bucket: Name of the S3 bucket\n",
    "    :param object_name: S3 object name\n",
    "    :param local_file_name: Local file name to save the downloaded file\n",
    "    \"\"\"\n",
    "    # # When using IAM roles, boto3 retrieves credentials from the instance metadata\n",
    "    # s3_client = boto3.client('s3')\n",
    "\n",
    "    #When setting up credentials locally, use the following code\n",
    "    session = boto3.Session()\n",
    "    s3_client = session.client('s3')\n",
    "\n",
    "    s3_client.download_file(bucket, object_name, local_file_name)\n",
    "\n",
    "bucket_name = 'myukdata'\n",
    "s3_file_name = 'Bills/Bill_Type_Identifiers.csv'\n",
    "local_file = 'Bill_Type_Identifiers.csv'\n",
    "\n",
    "download_file_from_s3(bucket_name, s3_file_name, local_file)\n",
    "download_file_from_s3(bucket_name, 'Bills/Bill_Stage_Identifiers.csv', 'Bill_Stage_Identifiers.csv')\n"
   ]
  },
  {
   "cell_type": "code",
   "execution_count": 6,
   "metadata": {},
   "outputs": [
    {
     "name": "stdout",
     "output_type": "stream",
     "text": [
      "20 and 3\n",
      "<class 'pandas.core.frame.DataFrame'>\n",
      "RangeIndex: 20 entries, 0 to 19\n",
      "Data columns (total 3 columns):\n",
      " #   Column  Non-Null Count  Dtype \n",
      "---  ------  --------------  ----- \n",
      " 0   id      20 non-null     int64 \n",
      " 1   name    20 non-null     object\n",
      " 2   house   20 non-null     object\n",
      "dtypes: int64(1), object(2)\n",
      "memory usage: 608.0+ bytes\n",
      "None\n",
      "<class 'pandas.core.frame.DataFrame'>\n",
      "RangeIndex: 20 entries, 0 to 19\n",
      "Data columns (total 3 columns):\n",
      " #   Column  Non-Null Count  Dtype \n",
      "---  ------  --------------  ----- \n",
      " 0   id      20 non-null     int64 \n",
      " 1   name    20 non-null     object\n",
      " 2   house   20 non-null     object\n",
      "dtypes: int64(1), object(2)\n",
      "memory usage: 608.0+ bytes\n",
      "None\n",
      "9 and 4\n"
     ]
    },
    {
     "data": {
      "text/html": [
       "<div>\n",
       "<style scoped>\n",
       "    .dataframe tbody tr th:only-of-type {\n",
       "        vertical-align: middle;\n",
       "    }\n",
       "\n",
       "    .dataframe tbody tr th {\n",
       "        vertical-align: top;\n",
       "    }\n",
       "\n",
       "    .dataframe thead th {\n",
       "        text-align: right;\n",
       "    }\n",
       "</style>\n",
       "<table border=\"1\" class=\"dataframe\">\n",
       "  <thead>\n",
       "    <tr style=\"text-align: right;\">\n",
       "      <th></th>\n",
       "      <th>id</th>\n",
       "      <th>name</th>\n",
       "      <th>house</th>\n",
       "    </tr>\n",
       "  </thead>\n",
       "  <tbody>\n",
       "    <tr>\n",
       "      <th>0</th>\n",
       "      <td>48</td>\n",
       "      <td>Committee stage (re-committed clauses and sche...</td>\n",
       "      <td>Commons</td>\n",
       "    </tr>\n",
       "    <tr>\n",
       "      <th>1</th>\n",
       "      <td>49</td>\n",
       "      <td>Committee of the whole House</td>\n",
       "      <td>Commons</td>\n",
       "    </tr>\n",
       "    <tr>\n",
       "      <th>2</th>\n",
       "      <td>6</td>\n",
       "      <td>1st reading</td>\n",
       "      <td>Commons</td>\n",
       "    </tr>\n",
       "    <tr>\n",
       "      <th>3</th>\n",
       "      <td>7</td>\n",
       "      <td>2nd reading</td>\n",
       "      <td>Commons</td>\n",
       "    </tr>\n",
       "    <tr>\n",
       "      <th>4</th>\n",
       "      <td>28</td>\n",
       "      <td>Guillotine motion</td>\n",
       "      <td>Commons</td>\n",
       "    </tr>\n",
       "  </tbody>\n",
       "</table>\n",
       "</div>"
      ],
      "text/plain": [
       "   id                                               name    house\n",
       "0  48  Committee stage (re-committed clauses and sche...  Commons\n",
       "1  49                       Committee of the whole House  Commons\n",
       "2   6                                        1st reading  Commons\n",
       "3   7                                        2nd reading  Commons\n",
       "4  28                                  Guillotine motion  Commons"
      ]
     },
     "execution_count": 6,
     "metadata": {},
     "output_type": "execute_result"
    }
   ],
   "source": [
    "df_stage = pd.read_csv('Bill_Stage_Identifiers.csv')\n",
    "df_type = pd.read_csv('Bill_Type_Identifiers.csv')\n",
    "print(f\"{len(df_stage)} and {len(df_stage.columns)}\")\n",
    "print(df_stage.info())\n",
    "print(df_stage.info())\n",
    "print(f\"{len(df_type)} and {len(df_type.columns)}\")\n",
    "df_stage.head()\n"
   ]
  },
  {
   "cell_type": "code",
   "execution_count": 8,
   "metadata": {},
   "outputs": [
    {
     "data": {
      "text/html": [
       "<div>\n",
       "<style scoped>\n",
       "    .dataframe tbody tr th:only-of-type {\n",
       "        vertical-align: middle;\n",
       "    }\n",
       "\n",
       "    .dataframe tbody tr th {\n",
       "        vertical-align: top;\n",
       "    }\n",
       "\n",
       "    .dataframe thead th {\n",
       "        text-align: right;\n",
       "    }\n",
       "</style>\n",
       "<table border=\"1\" class=\"dataframe\">\n",
       "  <thead>\n",
       "    <tr style=\"text-align: right;\">\n",
       "      <th></th>\n",
       "      <th>stageId</th>\n",
       "      <th>name</th>\n",
       "      <th>house</th>\n",
       "    </tr>\n",
       "  </thead>\n",
       "  <tbody>\n",
       "    <tr>\n",
       "      <th>0</th>\n",
       "      <td>48</td>\n",
       "      <td>Committee stage (re-committed clauses and sche...</td>\n",
       "      <td>Commons</td>\n",
       "    </tr>\n",
       "    <tr>\n",
       "      <th>1</th>\n",
       "      <td>49</td>\n",
       "      <td>Committee of the whole House</td>\n",
       "      <td>Commons</td>\n",
       "    </tr>\n",
       "    <tr>\n",
       "      <th>2</th>\n",
       "      <td>6</td>\n",
       "      <td>1st reading</td>\n",
       "      <td>Commons</td>\n",
       "    </tr>\n",
       "    <tr>\n",
       "      <th>3</th>\n",
       "      <td>7</td>\n",
       "      <td>2nd reading</td>\n",
       "      <td>Commons</td>\n",
       "    </tr>\n",
       "    <tr>\n",
       "      <th>4</th>\n",
       "      <td>28</td>\n",
       "      <td>Guillotine motion</td>\n",
       "      <td>Commons</td>\n",
       "    </tr>\n",
       "  </tbody>\n",
       "</table>\n",
       "</div>"
      ],
      "text/plain": [
       "   stageId                                               name    house\n",
       "0       48  Committee stage (re-committed clauses and sche...  Commons\n",
       "1       49                       Committee of the whole House  Commons\n",
       "2        6                                        1st reading  Commons\n",
       "3        7                                        2nd reading  Commons\n",
       "4       28                                  Guillotine motion  Commons"
      ]
     },
     "execution_count": 8,
     "metadata": {},
     "output_type": "execute_result"
    }
   ],
   "source": [
    "df_stage = df_stage.dropna()\n",
    "df_type = df_type.dropna()\n",
    "df_stage = df_stage.rename(columns={'id': 'stageId'})\n",
    "df_stage.head()"
   ]
  },
  {
   "cell_type": "code",
   "execution_count": 15,
   "metadata": {},
   "outputs": [
    {
     "name": "stdout",
     "output_type": "stream",
     "text": [
      "0                                                                                                                                                                                                                                                                                                                                                                                                                   Hybrid Bills mix the characteristics of Public and Private Bills. The changes to the law proposed by a Hybrid Bill would affect the general public but would also have a significant impact for specific individuals or groups. <div><a href='https://www.parliament.uk/about/how/laws/bills/hybrid/'>Find out more about Hybrid Bills</a></div>\n",
      "1                                                                                                                                                                                                                                                                                                                        Private bills are bills for the particular interest or benefit of any person or persons, public company or corporation, or local authority, and thus are applicable to, or have a differentiated effect on, only a particular section of the population. Private bills are promoted by the interested parties themselves.<div><a href='https://www.parliament.uk/about/how/laws/bills/private/'>Find out more about Private bills</a></div>\n",
      "2                                                                                                                                                                                                                                                                                                                                                                                             A Draft Bill is published to enable consultation and pre-legislative scrutiny. After consultation and pre-legislative scrutiny has taken place, the Draft Bill may be introduced formally in the House of Commons or the House of Lords.<div><a href='https://www.parliament.uk/business/bills-and-legislation/draft-bills/'>Find out more about Draft Bills</a></div>\n",
      "3    <p>Government Bills are a type of Public Bill, introduced by government ministers. A Government Bill is a formal proposal for a new law, or a change in the law, that is put forward by the Government for consideration by Parliament. The King's Speech normally lists the Bills that the Government are intending to put forward during the parliamentary year. Government Bills are normally Public Bills.</p><p><a href=\"https://erskinemay.parliament.uk/section/4972/government-and-private-members-bills/\" rel=\"noopener noreferrer\" target=\"_blank\">Find out more about Government Bills</a></p><p><a href=\"https://www.parliament.uk/about/how/laws/bills/public/\" rel=\"noopener noreferrer\" target=\"_blank\">Find out more about Public Bills</a></p>\n",
      "4                                                                                                                                                                                                                                         Ten Minute Rule Bills are a type of Private Members' Bill. Ten Minute Rule bills are often an opportunity for Members to voice an opinion on a subject or aspect of existing legislation, rather than a serious attempt to get a bill passed. Members make speeches of no more than ten minutes outlining their position, which another Member may oppose in a similar short statement.<div><a href='https://www.parliament.uk/about/how/laws/bills/private-members/'>Find out more about Private Members' Bills</a></div>\n",
      "5                                                                                                                                                                                                                                                                                                                     Ballot Bills are a type of Private Members' Bill. Ballot bills have the best chance of becoming law, as they get priority for the limited amount of debating time available. The names of Members applying for a bill are drawn in a ballot held on the second sitting Thursday of a parliamentary session.<div><a href='https://www.parliament.uk/about/how/laws/bills/private-members/'>Find out more about Private Members' Bills</a></div>\n",
      "6                                                                                                                                                                                                                                                                                                                                  Presentation Bills are a type of Private Members' Bill. Any Member may introduce a bill in this way as long as he or she has previously given notice of their intention to do so. Members formally introduce the title of the bill but do not speak in support of it - they rarely become law.<div><a href='https://www.parliament.uk/about/how/laws/bills/private-members/'>Find out more about Private Members' Bills</a></div>\n",
      "7                                                                                                                                                                                                                                                                                             Private Members' bills in the Lords are usually introduced through a ballot held on the day after State Opening of a new session of a parliament. In order to enter the ballot, Peers must submit a draft of their bill (including its short and long title, and all clauses and schedules) to the Legislation Office.<div><a href='https://www.parliament.uk/about/how/laws/bills/private-members/'>Find out more about Private Members' Bills in the Lords</a></div>\n",
      "8                                                                                                                                                                                                                                                                         Consolidation Bills are a type of Private Members' Bill. Consolidation bills re-enact a body of existing law in a single statute and an improved form without substantive change. They are invariably introduced in the House of Lords.<div><a href='https://erskinemay.parliament.uk/section/5507/consolidation-bills/'>Find out more about Consolidation Bills</a></div><div><a href='https://www.parliament.uk/about/how/laws/bills/public/'>Find out more about Public Bills</a></div>\n",
      "Name: description, dtype: object\n"
     ]
    }
   ],
   "source": [
    "df_type = df_type.rename(columns={'id': 'billTypeId'})\n",
    "df_type.head()\n",
    "# Set pandas to display the entire content of a column\n",
    "pd.set_option('display.max_colwidth', None)\n",
    "\n",
    "# Now display the 'description' column\n",
    "print(df_type['description'])\n"
   ]
  },
  {
   "cell_type": "code",
   "execution_count": 25,
   "metadata": {},
   "outputs": [
    {
     "name": "stdout",
     "output_type": "stream",
     "text": [
      "<class 'pandas.core.frame.DataFrame'>\n",
      "RangeIndex: 9 entries, 0 to 8\n",
      "Data columns (total 4 columns):\n",
      " #   Column       Non-Null Count  Dtype \n",
      "---  ------       --------------  ----- \n",
      " 0   billTypeId   9 non-null      int64 \n",
      " 1   category     9 non-null      object\n",
      " 2   name         9 non-null      object\n",
      " 3   description  9 non-null      object\n",
      "dtypes: int64(1), object(3)\n",
      "memory usage: 416.0+ bytes\n",
      "<class 'pandas.core.frame.DataFrame'>\n",
      "RangeIndex: 20 entries, 0 to 19\n",
      "Data columns (total 3 columns):\n",
      " #   Column   Non-Null Count  Dtype \n",
      "---  ------   --------------  ----- \n",
      " 0   stageId  20 non-null     int64 \n",
      " 1   name     20 non-null     object\n",
      " 2   house    20 non-null     object\n",
      "dtypes: int64(1), object(2)\n",
      "memory usage: 608.0+ bytes\n"
     ]
    }
   ],
   "source": [
    "df_type.info()\n",
    "df_stage.info()"
   ]
  },
  {
   "cell_type": "code",
   "execution_count": 24,
   "metadata": {},
   "outputs": [
    {
     "data": {
      "text/plain": [
       "True"
      ]
     },
     "execution_count": 24,
     "metadata": {},
     "output_type": "execute_result"
    }
   ],
   "source": [
    "def upload_df_to_s3(df, bucket, object_name):\n",
    "    \"\"\"\n",
    "    Upload a DataFrame to an S3 bucket as CSV.\n",
    "\n",
    "    :param df: DataFrame to upload\n",
    "    :param bucket: Bucket to upload to\n",
    "    :param object_name: S3 object name\n",
    "    :return: True if the DataFrame was uploaded, else False\n",
    "    \"\"\"\n",
    "    # Create a buffer\n",
    "    csv_buffer = io.StringIO()\n",
    "    df.to_csv(csv_buffer, index=False)\n",
    "\n",
    "    # Move to the start of the buffer\n",
    "    csv_buffer.seek(0)\n",
    "\n",
    "    # Upload the buffer content to S3\n",
    "    s3_client = boto3.client('s3')\n",
    "    try:\n",
    "        s3_client.put_object(Bucket=bucket, Key=object_name, Body=csv_buffer.getvalue())\n",
    "    except ClientError as e:\n",
    "        logging.error(e)\n",
    "        return False\n",
    "    return True\n",
    "\n",
    "bucket_name = 'myukdata'\n",
    "upload_df_to_s3(df_stage, bucket_name, 'Preprocessing/Bills/Bill_Stage_Identifiers.csv')\n",
    "upload_df_to_s3(df_type, bucket_name, 'Preprocessing/Bills/Bill_Type_Identifiers.csv')\n"
   ]
  }
 ],
 "metadata": {
  "kernelspec": {
   "display_name": "Python 3",
   "language": "python",
   "name": "python3"
  },
  "language_info": {
   "codemirror_mode": {
    "name": "ipython",
    "version": 3
   },
   "file_extension": ".py",
   "mimetype": "text/x-python",
   "name": "python",
   "nbconvert_exporter": "python",
   "pygments_lexer": "ipython3",
   "version": "3.11.1"
  }
 },
 "nbformat": 4,
 "nbformat_minor": 2
}
